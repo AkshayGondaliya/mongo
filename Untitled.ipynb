{
 "cells": [
  {
   "cell_type": "code",
   "execution_count": 1,
   "id": "nominated-forth",
   "metadata": {},
   "outputs": [],
   "source": [
    "import pandas as pd"
   ]
  },
  {
   "cell_type": "code",
   "execution_count": 2,
   "id": "close-composite",
   "metadata": {},
   "outputs": [],
   "source": [
    "import numpy as np"
   ]
  },
  {
   "cell_type": "code",
   "execution_count": 5,
   "id": "centered-cutting",
   "metadata": {},
   "outputs": [
    {
     "name": "stderr",
     "output_type": "stream",
     "text": [
      "In C:\\Users\\Akshay Gondaliya\\anaconda3\\lib\\site-packages\\matplotlib\\mpl-data\\stylelib\\_classic_test.mplstyle: \n",
      "The text.latex.preview rcparam was deprecated in Matplotlib 3.3 and will be removed two minor releases later.\n",
      "In C:\\Users\\Akshay Gondaliya\\anaconda3\\lib\\site-packages\\matplotlib\\mpl-data\\stylelib\\_classic_test.mplstyle: \n",
      "The mathtext.fallback_to_cm rcparam was deprecated in Matplotlib 3.3 and will be removed two minor releases later.\n",
      "In C:\\Users\\Akshay Gondaliya\\anaconda3\\lib\\site-packages\\matplotlib\\mpl-data\\stylelib\\_classic_test.mplstyle: Support for setting the 'mathtext.fallback_to_cm' rcParam is deprecated since 3.3 and will be removed two minor releases later; use 'mathtext.fallback : 'cm' instead.\n",
      "In C:\\Users\\Akshay Gondaliya\\anaconda3\\lib\\site-packages\\matplotlib\\mpl-data\\stylelib\\_classic_test.mplstyle: \n",
      "The validate_bool_maybe_none function was deprecated in Matplotlib 3.3 and will be removed two minor releases later.\n",
      "In C:\\Users\\Akshay Gondaliya\\anaconda3\\lib\\site-packages\\matplotlib\\mpl-data\\stylelib\\_classic_test.mplstyle: \n",
      "The savefig.jpeg_quality rcparam was deprecated in Matplotlib 3.3 and will be removed two minor releases later.\n",
      "In C:\\Users\\Akshay Gondaliya\\anaconda3\\lib\\site-packages\\matplotlib\\mpl-data\\stylelib\\_classic_test.mplstyle: \n",
      "The keymap.all_axes rcparam was deprecated in Matplotlib 3.3 and will be removed two minor releases later.\n",
      "In C:\\Users\\Akshay Gondaliya\\anaconda3\\lib\\site-packages\\matplotlib\\mpl-data\\stylelib\\_classic_test.mplstyle: \n",
      "The animation.avconv_path rcparam was deprecated in Matplotlib 3.3 and will be removed two minor releases later.\n",
      "In C:\\Users\\Akshay Gondaliya\\anaconda3\\lib\\site-packages\\matplotlib\\mpl-data\\stylelib\\_classic_test.mplstyle: \n",
      "The animation.avconv_args rcparam was deprecated in Matplotlib 3.3 and will be removed two minor releases later.\n"
     ]
    }
   ],
   "source": [
    "import matplotlib.pyplot as plt"
   ]
  },
  {
   "cell_type": "code",
   "execution_count": 10,
   "id": "requested-colleague",
   "metadata": {},
   "outputs": [],
   "source": [
    "df=pd.read_csv(\"sonar.csv\",header=None)"
   ]
  },
  {
   "cell_type": "code",
   "execution_count": 11,
   "id": "reasonable-footwear",
   "metadata": {},
   "outputs": [
    {
     "data": {
      "text/html": [
       "<div>\n",
       "<style scoped>\n",
       "    .dataframe tbody tr th:only-of-type {\n",
       "        vertical-align: middle;\n",
       "    }\n",
       "\n",
       "    .dataframe tbody tr th {\n",
       "        vertical-align: top;\n",
       "    }\n",
       "\n",
       "    .dataframe thead th {\n",
       "        text-align: right;\n",
       "    }\n",
       "</style>\n",
       "<table border=\"1\" class=\"dataframe\">\n",
       "  <thead>\n",
       "    <tr style=\"text-align: right;\">\n",
       "      <th></th>\n",
       "      <th>0</th>\n",
       "      <th>1</th>\n",
       "      <th>2</th>\n",
       "      <th>3</th>\n",
       "      <th>4</th>\n",
       "      <th>5</th>\n",
       "      <th>6</th>\n",
       "      <th>7</th>\n",
       "      <th>8</th>\n",
       "      <th>9</th>\n",
       "      <th>...</th>\n",
       "      <th>51</th>\n",
       "      <th>52</th>\n",
       "      <th>53</th>\n",
       "      <th>54</th>\n",
       "      <th>55</th>\n",
       "      <th>56</th>\n",
       "      <th>57</th>\n",
       "      <th>58</th>\n",
       "      <th>59</th>\n",
       "      <th>60</th>\n",
       "    </tr>\n",
       "  </thead>\n",
       "  <tbody>\n",
       "    <tr>\n",
       "      <th>0</th>\n",
       "      <td>0.0200</td>\n",
       "      <td>0.0371</td>\n",
       "      <td>0.0428</td>\n",
       "      <td>0.0207</td>\n",
       "      <td>0.0954</td>\n",
       "      <td>0.0986</td>\n",
       "      <td>0.1539</td>\n",
       "      <td>0.1601</td>\n",
       "      <td>0.3109</td>\n",
       "      <td>0.2111</td>\n",
       "      <td>...</td>\n",
       "      <td>0.0027</td>\n",
       "      <td>0.0065</td>\n",
       "      <td>0.0159</td>\n",
       "      <td>0.0072</td>\n",
       "      <td>0.0167</td>\n",
       "      <td>0.0180</td>\n",
       "      <td>0.0084</td>\n",
       "      <td>0.0090</td>\n",
       "      <td>0.0032</td>\n",
       "      <td>R</td>\n",
       "    </tr>\n",
       "    <tr>\n",
       "      <th>1</th>\n",
       "      <td>0.0453</td>\n",
       "      <td>0.0523</td>\n",
       "      <td>0.0843</td>\n",
       "      <td>0.0689</td>\n",
       "      <td>0.1183</td>\n",
       "      <td>0.2583</td>\n",
       "      <td>0.2156</td>\n",
       "      <td>0.3481</td>\n",
       "      <td>0.3337</td>\n",
       "      <td>0.2872</td>\n",
       "      <td>...</td>\n",
       "      <td>0.0084</td>\n",
       "      <td>0.0089</td>\n",
       "      <td>0.0048</td>\n",
       "      <td>0.0094</td>\n",
       "      <td>0.0191</td>\n",
       "      <td>0.0140</td>\n",
       "      <td>0.0049</td>\n",
       "      <td>0.0052</td>\n",
       "      <td>0.0044</td>\n",
       "      <td>R</td>\n",
       "    </tr>\n",
       "    <tr>\n",
       "      <th>2</th>\n",
       "      <td>0.0262</td>\n",
       "      <td>0.0582</td>\n",
       "      <td>0.1099</td>\n",
       "      <td>0.1083</td>\n",
       "      <td>0.0974</td>\n",
       "      <td>0.2280</td>\n",
       "      <td>0.2431</td>\n",
       "      <td>0.3771</td>\n",
       "      <td>0.5598</td>\n",
       "      <td>0.6194</td>\n",
       "      <td>...</td>\n",
       "      <td>0.0232</td>\n",
       "      <td>0.0166</td>\n",
       "      <td>0.0095</td>\n",
       "      <td>0.0180</td>\n",
       "      <td>0.0244</td>\n",
       "      <td>0.0316</td>\n",
       "      <td>0.0164</td>\n",
       "      <td>0.0095</td>\n",
       "      <td>0.0078</td>\n",
       "      <td>R</td>\n",
       "    </tr>\n",
       "    <tr>\n",
       "      <th>3</th>\n",
       "      <td>0.0100</td>\n",
       "      <td>0.0171</td>\n",
       "      <td>0.0623</td>\n",
       "      <td>0.0205</td>\n",
       "      <td>0.0205</td>\n",
       "      <td>0.0368</td>\n",
       "      <td>0.1098</td>\n",
       "      <td>0.1276</td>\n",
       "      <td>0.0598</td>\n",
       "      <td>0.1264</td>\n",
       "      <td>...</td>\n",
       "      <td>0.0121</td>\n",
       "      <td>0.0036</td>\n",
       "      <td>0.0150</td>\n",
       "      <td>0.0085</td>\n",
       "      <td>0.0073</td>\n",
       "      <td>0.0050</td>\n",
       "      <td>0.0044</td>\n",
       "      <td>0.0040</td>\n",
       "      <td>0.0117</td>\n",
       "      <td>R</td>\n",
       "    </tr>\n",
       "    <tr>\n",
       "      <th>4</th>\n",
       "      <td>0.0762</td>\n",
       "      <td>0.0666</td>\n",
       "      <td>0.0481</td>\n",
       "      <td>0.0394</td>\n",
       "      <td>0.0590</td>\n",
       "      <td>0.0649</td>\n",
       "      <td>0.1209</td>\n",
       "      <td>0.2467</td>\n",
       "      <td>0.3564</td>\n",
       "      <td>0.4459</td>\n",
       "      <td>...</td>\n",
       "      <td>0.0031</td>\n",
       "      <td>0.0054</td>\n",
       "      <td>0.0105</td>\n",
       "      <td>0.0110</td>\n",
       "      <td>0.0015</td>\n",
       "      <td>0.0072</td>\n",
       "      <td>0.0048</td>\n",
       "      <td>0.0107</td>\n",
       "      <td>0.0094</td>\n",
       "      <td>R</td>\n",
       "    </tr>\n",
       "  </tbody>\n",
       "</table>\n",
       "<p>5 rows × 61 columns</p>\n",
       "</div>"
      ],
      "text/plain": [
       "       0       1       2       3       4       5       6       7       8   \\\n",
       "0  0.0200  0.0371  0.0428  0.0207  0.0954  0.0986  0.1539  0.1601  0.3109   \n",
       "1  0.0453  0.0523  0.0843  0.0689  0.1183  0.2583  0.2156  0.3481  0.3337   \n",
       "2  0.0262  0.0582  0.1099  0.1083  0.0974  0.2280  0.2431  0.3771  0.5598   \n",
       "3  0.0100  0.0171  0.0623  0.0205  0.0205  0.0368  0.1098  0.1276  0.0598   \n",
       "4  0.0762  0.0666  0.0481  0.0394  0.0590  0.0649  0.1209  0.2467  0.3564   \n",
       "\n",
       "       9   ...      51      52      53      54      55      56      57  \\\n",
       "0  0.2111  ...  0.0027  0.0065  0.0159  0.0072  0.0167  0.0180  0.0084   \n",
       "1  0.2872  ...  0.0084  0.0089  0.0048  0.0094  0.0191  0.0140  0.0049   \n",
       "2  0.6194  ...  0.0232  0.0166  0.0095  0.0180  0.0244  0.0316  0.0164   \n",
       "3  0.1264  ...  0.0121  0.0036  0.0150  0.0085  0.0073  0.0050  0.0044   \n",
       "4  0.4459  ...  0.0031  0.0054  0.0105  0.0110  0.0015  0.0072  0.0048   \n",
       "\n",
       "       58      59  60  \n",
       "0  0.0090  0.0032   R  \n",
       "1  0.0052  0.0044   R  \n",
       "2  0.0095  0.0078   R  \n",
       "3  0.0040  0.0117   R  \n",
       "4  0.0107  0.0094   R  \n",
       "\n",
       "[5 rows x 61 columns]"
      ]
     },
     "execution_count": 11,
     "metadata": {},
     "output_type": "execute_result"
    }
   ],
   "source": [
    "df.head()"
   ]
  },
  {
   "cell_type": "code",
   "execution_count": 14,
   "id": "imposed-valve",
   "metadata": {},
   "outputs": [
    {
     "data": {
      "text/plain": [
       "(208, 61)"
      ]
     },
     "execution_count": 14,
     "metadata": {},
     "output_type": "execute_result"
    }
   ],
   "source": [
    "df.shape"
   ]
  },
  {
   "cell_type": "code",
   "execution_count": 18,
   "id": "separate-inspection",
   "metadata": {},
   "outputs": [
    {
     "data": {
      "text/plain": [
       "0     0\n",
       "1     0\n",
       "2     0\n",
       "3     0\n",
       "4     0\n",
       "     ..\n",
       "56    0\n",
       "57    0\n",
       "58    0\n",
       "59    0\n",
       "60    0\n",
       "Length: 61, dtype: int64"
      ]
     },
     "execution_count": 18,
     "metadata": {},
     "output_type": "execute_result"
    }
   ],
   "source": [
    "df.isnull().sum()"
   ]
  },
  {
   "cell_type": "code",
   "execution_count": 20,
   "id": "isolated-dodge",
   "metadata": {},
   "outputs": [],
   "source": [
    "x=df.drop(60,axis=1)"
   ]
  },
  {
   "cell_type": "code",
   "execution_count": 22,
   "id": "finite-creativity",
   "metadata": {},
   "outputs": [
    {
     "data": {
      "text/plain": [
       "(208, 60)"
      ]
     },
     "execution_count": 22,
     "metadata": {},
     "output_type": "execute_result"
    }
   ],
   "source": [
    "x.shape"
   ]
  },
  {
   "cell_type": "code",
   "execution_count": 23,
   "id": "static-staff",
   "metadata": {},
   "outputs": [],
   "source": [
    "y=df[60]"
   ]
  },
  {
   "cell_type": "code",
   "execution_count": 24,
   "id": "overall-strategy",
   "metadata": {},
   "outputs": [
    {
     "data": {
      "text/plain": [
       "M    111\n",
       "R     97\n",
       "Name: 60, dtype: int64"
      ]
     },
     "execution_count": 24,
     "metadata": {},
     "output_type": "execute_result"
    }
   ],
   "source": [
    "y.value_counts()"
   ]
  },
  {
   "cell_type": "code",
   "execution_count": 54,
   "id": "passing-visibility",
   "metadata": {},
   "outputs": [],
   "source": [
    "y=pd.get_dummies(y,drop_first=True)"
   ]
  },
  {
   "cell_type": "code",
   "execution_count": 55,
   "id": "municipal-netherlands",
   "metadata": {},
   "outputs": [
    {
     "data": {
      "text/html": [
       "<div>\n",
       "<style scoped>\n",
       "    .dataframe tbody tr th:only-of-type {\n",
       "        vertical-align: middle;\n",
       "    }\n",
       "\n",
       "    .dataframe tbody tr th {\n",
       "        vertical-align: top;\n",
       "    }\n",
       "\n",
       "    .dataframe thead th {\n",
       "        text-align: right;\n",
       "    }\n",
       "</style>\n",
       "<table border=\"1\" class=\"dataframe\">\n",
       "  <thead>\n",
       "    <tr style=\"text-align: right;\">\n",
       "      <th></th>\n",
       "      <th>R</th>\n",
       "    </tr>\n",
       "  </thead>\n",
       "  <tbody>\n",
       "    <tr>\n",
       "      <th>0</th>\n",
       "      <td>1</td>\n",
       "    </tr>\n",
       "    <tr>\n",
       "      <th>1</th>\n",
       "      <td>1</td>\n",
       "    </tr>\n",
       "    <tr>\n",
       "      <th>2</th>\n",
       "      <td>1</td>\n",
       "    </tr>\n",
       "    <tr>\n",
       "      <th>3</th>\n",
       "      <td>1</td>\n",
       "    </tr>\n",
       "    <tr>\n",
       "      <th>4</th>\n",
       "      <td>1</td>\n",
       "    </tr>\n",
       "    <tr>\n",
       "      <th>...</th>\n",
       "      <td>...</td>\n",
       "    </tr>\n",
       "    <tr>\n",
       "      <th>203</th>\n",
       "      <td>0</td>\n",
       "    </tr>\n",
       "    <tr>\n",
       "      <th>204</th>\n",
       "      <td>0</td>\n",
       "    </tr>\n",
       "    <tr>\n",
       "      <th>205</th>\n",
       "      <td>0</td>\n",
       "    </tr>\n",
       "    <tr>\n",
       "      <th>206</th>\n",
       "      <td>0</td>\n",
       "    </tr>\n",
       "    <tr>\n",
       "      <th>207</th>\n",
       "      <td>0</td>\n",
       "    </tr>\n",
       "  </tbody>\n",
       "</table>\n",
       "<p>208 rows × 1 columns</p>\n",
       "</div>"
      ],
      "text/plain": [
       "     R\n",
       "0    1\n",
       "1    1\n",
       "2    1\n",
       "3    1\n",
       "4    1\n",
       "..  ..\n",
       "203  0\n",
       "204  0\n",
       "205  0\n",
       "206  0\n",
       "207  0\n",
       "\n",
       "[208 rows x 1 columns]"
      ]
     },
     "execution_count": 55,
     "metadata": {},
     "output_type": "execute_result"
    }
   ],
   "source": [
    "y"
   ]
  },
  {
   "cell_type": "code",
   "execution_count": 25,
   "id": "prospective-modeling",
   "metadata": {},
   "outputs": [],
   "source": [
    "import tensorflow as tf\n",
    "from tensorflow import keras\n"
   ]
  },
  {
   "cell_type": "code",
   "execution_count": 56,
   "id": "weekly-latin",
   "metadata": {},
   "outputs": [],
   "source": [
    "from sklearn.model_selection import train_test_split"
   ]
  },
  {
   "cell_type": "code",
   "execution_count": 93,
   "id": "monthly-purpose",
   "metadata": {},
   "outputs": [],
   "source": [
    "x_train,x_test,y_train,y_test=train_test_split(x,y,test_size=0.2,shuffle=True,random_state=25)"
   ]
  },
  {
   "cell_type": "code",
   "execution_count": 58,
   "id": "pointed-result",
   "metadata": {},
   "outputs": [
    {
     "data": {
      "text/plain": [
       "(166, 60)"
      ]
     },
     "execution_count": 58,
     "metadata": {},
     "output_type": "execute_result"
    }
   ],
   "source": [
    "x_train.shape"
   ]
  },
  {
   "cell_type": "code",
   "execution_count": 59,
   "id": "useful-texture",
   "metadata": {},
   "outputs": [
    {
     "data": {
      "text/plain": [
       "(166, 1)"
      ]
     },
     "execution_count": 59,
     "metadata": {},
     "output_type": "execute_result"
    }
   ],
   "source": [
    "y_train.shape"
   ]
  },
  {
   "cell_type": "code",
   "execution_count": 48,
   "id": "aging-warrant",
   "metadata": {},
   "outputs": [
    {
     "data": {
      "text/plain": [
       "M    86\n",
       "R    80\n",
       "Name: 60, dtype: int64"
      ]
     },
     "execution_count": 48,
     "metadata": {},
     "output_type": "execute_result"
    }
   ],
   "source": [
    "y_train.value_counts()"
   ]
  },
  {
   "cell_type": "code",
   "execution_count": 78,
   "id": "complex-increase",
   "metadata": {},
   "outputs": [],
   "source": [
    "model=keras.Sequential([\n",
    "    \n",
    "    keras.layers.Dense(units=20,input_shape=(60,),activation=\"relu\"),\n",
    "    keras.layers.Dense(units=40,activation=\"relu\"),\n",
    "    keras.layers.Dense(units=40,activation=\"relu\"),\n",
    "    keras.layers.Dense(units=1,activation=\"sigmoid\")\n",
    "\n",
    "])\n",
    "\n"
   ]
  },
  {
   "cell_type": "code",
   "execution_count": 79,
   "id": "authentic-friendship",
   "metadata": {},
   "outputs": [],
   "source": [
    "\n",
    "model.compile(    \n",
    "    optimizer='adam',\n",
    "    loss=\"BinaryCrossentropy\",\n",
    "    metrics=[\"accuracy\"],\n",
    "\n",
    ")"
   ]
  },
  {
   "cell_type": "code",
   "execution_count": 80,
   "id": "arranged-packet",
   "metadata": {},
   "outputs": [
    {
     "name": "stdout",
     "output_type": "stream",
     "text": [
      "Epoch 1/100\n",
      "21/21 [==============================] - 1s 1ms/step - loss: 0.6915 - accuracy: 0.5613\n",
      "Epoch 2/100\n",
      "21/21 [==============================] - 0s 1ms/step - loss: 0.6870 - accuracy: 0.5441\n",
      "Epoch 3/100\n",
      "21/21 [==============================] - 0s 1ms/step - loss: 0.6658 - accuracy: 0.6179\n",
      "Epoch 4/100\n",
      "21/21 [==============================] - 0s 1ms/step - loss: 0.6328 - accuracy: 0.7224\n",
      "Epoch 5/100\n",
      "21/21 [==============================] - 0s 1ms/step - loss: 0.6036 - accuracy: 0.7303\n",
      "Epoch 6/100\n",
      "21/21 [==============================] - 0s 1ms/step - loss: 0.5723 - accuracy: 0.6822\n",
      "Epoch 7/100\n",
      "21/21 [==============================] - 0s 1ms/step - loss: 0.5411 - accuracy: 0.7628\n",
      "Epoch 8/100\n",
      "21/21 [==============================] - 0s 1ms/step - loss: 0.4996 - accuracy: 0.8175\n",
      "Epoch 9/100\n",
      "21/21 [==============================] - 0s 1ms/step - loss: 0.5252 - accuracy: 0.7517\n",
      "Epoch 10/100\n",
      "21/21 [==============================] - 0s 1ms/step - loss: 0.4887 - accuracy: 0.7154\n",
      "Epoch 11/100\n",
      "21/21 [==============================] - 0s 1ms/step - loss: 0.3941 - accuracy: 0.8772\n",
      "Epoch 12/100\n",
      "21/21 [==============================] - 0s 1ms/step - loss: 0.4414 - accuracy: 0.7627\n",
      "Epoch 13/100\n",
      "21/21 [==============================] - 0s 1ms/step - loss: 0.4046 - accuracy: 0.8007\n",
      "Epoch 14/100\n",
      "21/21 [==============================] - 0s 1ms/step - loss: 0.3577 - accuracy: 0.8586\n",
      "Epoch 15/100\n",
      "21/21 [==============================] - 0s 1ms/step - loss: 0.3685 - accuracy: 0.8318\n",
      "Epoch 16/100\n",
      "21/21 [==============================] - 0s 1ms/step - loss: 0.3683 - accuracy: 0.8308\n",
      "Epoch 17/100\n",
      "21/21 [==============================] - 0s 1ms/step - loss: 0.3600 - accuracy: 0.8424\n",
      "Epoch 18/100\n",
      "21/21 [==============================] - 0s 1ms/step - loss: 0.3070 - accuracy: 0.8667\n",
      "Epoch 19/100\n",
      "21/21 [==============================] - 0s 1ms/step - loss: 0.3279 - accuracy: 0.8712\n",
      "Epoch 20/100\n",
      "21/21 [==============================] - 0s 1ms/step - loss: 0.3018 - accuracy: 0.8587\n",
      "Epoch 21/100\n",
      "21/21 [==============================] - 0s 1ms/step - loss: 0.3010 - accuracy: 0.8398\n",
      "Epoch 22/100\n",
      "21/21 [==============================] - 0s 1ms/step - loss: 0.3112 - accuracy: 0.8394\n",
      "Epoch 23/100\n",
      "21/21 [==============================] - 0s 1ms/step - loss: 0.2807 - accuracy: 0.8899\n",
      "Epoch 24/100\n",
      "21/21 [==============================] - 0s 1ms/step - loss: 0.2804 - accuracy: 0.8699\n",
      "Epoch 25/100\n",
      "21/21 [==============================] - 0s 1ms/step - loss: 0.2750 - accuracy: 0.8956\n",
      "Epoch 26/100\n",
      "21/21 [==============================] - 0s 1ms/step - loss: 0.2783 - accuracy: 0.8950\n",
      "Epoch 27/100\n",
      "21/21 [==============================] - 0s 1ms/step - loss: 0.2508 - accuracy: 0.8634\n",
      "Epoch 28/100\n",
      "21/21 [==============================] - 0s 1ms/step - loss: 0.2636 - accuracy: 0.8671\n",
      "Epoch 29/100\n",
      "21/21 [==============================] - 0s 1ms/step - loss: 0.3015 - accuracy: 0.8751\n",
      "Epoch 30/100\n",
      "21/21 [==============================] - 0s 1ms/step - loss: 0.2978 - accuracy: 0.8949\n",
      "Epoch 31/100\n",
      "21/21 [==============================] - 0s 1ms/step - loss: 0.2077 - accuracy: 0.9349\n",
      "Epoch 32/100\n",
      "21/21 [==============================] - 0s 1ms/step - loss: 0.2147 - accuracy: 0.9192\n",
      "Epoch 33/100\n",
      "21/21 [==============================] - 0s 1ms/step - loss: 0.2372 - accuracy: 0.8528\n",
      "Epoch 34/100\n",
      "21/21 [==============================] - 0s 1ms/step - loss: 0.2161 - accuracy: 0.9342\n",
      "Epoch 35/100\n",
      "21/21 [==============================] - 0s 1ms/step - loss: 0.1811 - accuracy: 0.9222\n",
      "Epoch 36/100\n",
      "21/21 [==============================] - 0s 1ms/step - loss: 0.2139 - accuracy: 0.9297\n",
      "Epoch 37/100\n",
      "21/21 [==============================] - 0s 1ms/step - loss: 0.1826 - accuracy: 0.9734\n",
      "Epoch 38/100\n",
      "21/21 [==============================] - 0s 1ms/step - loss: 0.1325 - accuracy: 0.9548\n",
      "Epoch 39/100\n",
      "21/21 [==============================] - 0s 1ms/step - loss: 0.1503 - accuracy: 0.9736\n",
      "Epoch 40/100\n",
      "21/21 [==============================] - 0s 997us/step - loss: 0.1449 - accuracy: 0.9689\n",
      "Epoch 41/100\n",
      "21/21 [==============================] - 0s 997us/step - loss: 0.1568 - accuracy: 0.9505\n",
      "Epoch 42/100\n",
      "21/21 [==============================] - 0s 1ms/step - loss: 0.1553 - accuracy: 0.9533\n",
      "Epoch 43/100\n",
      "21/21 [==============================] - 0s 997us/step - loss: 0.1159 - accuracy: 0.9825\n",
      "Epoch 44/100\n",
      "21/21 [==============================] - 0s 1ms/step - loss: 0.1320 - accuracy: 0.9757\n",
      "Epoch 45/100\n",
      "21/21 [==============================] - 0s 997us/step - loss: 0.1574 - accuracy: 0.9381\n",
      "Epoch 46/100\n",
      "21/21 [==============================] - 0s 1ms/step - loss: 0.1707 - accuracy: 0.9384\n",
      "Epoch 47/100\n",
      "21/21 [==============================] - 0s 997us/step - loss: 0.1466 - accuracy: 0.9406\n",
      "Epoch 48/100\n",
      "21/21 [==============================] - 0s 1ms/step - loss: 0.1418 - accuracy: 0.9684\n",
      "Epoch 49/100\n",
      "21/21 [==============================] - 0s 997us/step - loss: 0.1193 - accuracy: 0.9867\n",
      "Epoch 50/100\n",
      "21/21 [==============================] - 0s 947us/step - loss: 0.1155 - accuracy: 0.9637\n",
      "Epoch 51/100\n",
      "21/21 [==============================] - 0s 1ms/step - loss: 0.1091 - accuracy: 0.9533\n",
      "Epoch 52/100\n",
      "21/21 [==============================] - 0s 950us/step - loss: 0.1059 - accuracy: 0.9681\n",
      "Epoch 53/100\n",
      "21/21 [==============================] - 0s 1ms/step - loss: 0.0937 - accuracy: 0.9962\n",
      "Epoch 54/100\n",
      "21/21 [==============================] - 0s 997us/step - loss: 0.0671 - accuracy: 0.9899\n",
      "Epoch 55/100\n",
      "21/21 [==============================] - 0s 1ms/step - loss: 0.0927 - accuracy: 0.9944\n",
      "Epoch 56/100\n",
      "21/21 [==============================] - 0s 1ms/step - loss: 0.0949 - accuracy: 0.9663\n",
      "Epoch 57/100\n",
      "21/21 [==============================] - 0s 1ms/step - loss: 0.0614 - accuracy: 0.9937\n",
      "Epoch 58/100\n",
      "21/21 [==============================] - 0s 997us/step - loss: 0.0817 - accuracy: 0.9912\n",
      "Epoch 59/100\n",
      "21/21 [==============================] - 0s 1ms/step - loss: 0.0543 - accuracy: 0.9937\n",
      "Epoch 60/100\n",
      "21/21 [==============================] - 0s 995us/step - loss: 0.0622 - accuracy: 0.9940\n",
      "Epoch 61/100\n",
      "21/21 [==============================] - 0s 1000us/step - loss: 0.0676 - accuracy: 0.9824\n",
      "Epoch 62/100\n",
      "21/21 [==============================] - 0s 1ms/step - loss: 0.0669 - accuracy: 0.9790\n",
      "Epoch 63/100\n",
      "21/21 [==============================] - 0s 1ms/step - loss: 0.1018 - accuracy: 0.9656\n",
      "Epoch 64/100\n",
      "21/21 [==============================] - 0s 1ms/step - loss: 0.0877 - accuracy: 0.9663\n",
      "Epoch 65/100\n",
      "21/21 [==============================] - 0s 1ms/step - loss: 0.0925 - accuracy: 0.9798\n",
      "Epoch 66/100\n",
      "21/21 [==============================] - 0s 1ms/step - loss: 0.0490 - accuracy: 0.9920\n",
      "Epoch 67/100\n",
      "21/21 [==============================] - 0s 1ms/step - loss: 0.0385 - accuracy: 1.0000\n",
      "Epoch 68/100\n",
      "21/21 [==============================] - 0s 1ms/step - loss: 0.0342 - accuracy: 0.9975\n",
      "Epoch 69/100\n",
      "21/21 [==============================] - 0s 1ms/step - loss: 0.0277 - accuracy: 1.0000\n",
      "Epoch 70/100\n",
      "21/21 [==============================] - 0s 1ms/step - loss: 0.0357 - accuracy: 1.0000\n",
      "Epoch 71/100\n",
      "21/21 [==============================] - 0s 1ms/step - loss: 0.0343 - accuracy: 1.0000\n",
      "Epoch 72/100\n",
      "21/21 [==============================] - 0s 1ms/step - loss: 0.0269 - accuracy: 1.0000\n",
      "Epoch 73/100\n",
      "21/21 [==============================] - 0s 1ms/step - loss: 0.0327 - accuracy: 0.9879\n",
      "Epoch 74/100\n",
      "21/21 [==============================] - 0s 1ms/step - loss: 0.0300 - accuracy: 1.0000\n",
      "Epoch 75/100\n",
      "21/21 [==============================] - 0s 1ms/step - loss: 0.0314 - accuracy: 0.9951\n",
      "Epoch 76/100\n",
      "21/21 [==============================] - 0s 1ms/step - loss: 0.0319 - accuracy: 1.0000\n",
      "Epoch 77/100\n",
      "21/21 [==============================] - 0s 1ms/step - loss: 0.0273 - accuracy: 1.0000\n",
      "Epoch 78/100\n",
      "21/21 [==============================] - 0s 1ms/step - loss: 0.0170 - accuracy: 1.0000\n",
      "Epoch 79/100\n",
      "21/21 [==============================] - 0s 1ms/step - loss: 0.0217 - accuracy: 1.0000\n",
      "Epoch 80/100\n",
      "21/21 [==============================] - 0s 2ms/step - loss: 0.0210 - accuracy: 1.0000\n",
      "Epoch 81/100\n",
      "21/21 [==============================] - 0s 2ms/step - loss: 0.0190 - accuracy: 1.0000\n",
      "Epoch 82/100\n"
     ]
    },
    {
     "name": "stdout",
     "output_type": "stream",
     "text": [
      "21/21 [==============================] - 0s 2ms/step - loss: 0.0192 - accuracy: 1.0000\n",
      "Epoch 83/100\n",
      "21/21 [==============================] - 0s 2ms/step - loss: 0.0144 - accuracy: 1.0000\n",
      "Epoch 84/100\n",
      "21/21 [==============================] - 0s 2ms/step - loss: 0.0166 - accuracy: 1.0000\n",
      "Epoch 85/100\n",
      "21/21 [==============================] - 0s 1ms/step - loss: 0.0115 - accuracy: 1.0000\n",
      "Epoch 86/100\n",
      "21/21 [==============================] - 0s 1ms/step - loss: 0.0130 - accuracy: 1.0000\n",
      "Epoch 87/100\n",
      "21/21 [==============================] - 0s 1ms/step - loss: 0.0195 - accuracy: 1.0000\n",
      "Epoch 88/100\n",
      "21/21 [==============================] - 0s 1ms/step - loss: 0.0149 - accuracy: 1.0000\n",
      "Epoch 89/100\n",
      "21/21 [==============================] - 0s 997us/step - loss: 0.0134 - accuracy: 1.0000\n",
      "Epoch 90/100\n",
      "21/21 [==============================] - 0s 898us/step - loss: 0.0118 - accuracy: 1.0000\n",
      "Epoch 91/100\n",
      "21/21 [==============================] - 0s 947us/step - loss: 0.0130 - accuracy: 1.0000\n",
      "Epoch 92/100\n",
      "21/21 [==============================] - 0s 947us/step - loss: 0.0122 - accuracy: 1.0000\n",
      "Epoch 93/100\n",
      "21/21 [==============================] - 0s 947us/step - loss: 0.0124 - accuracy: 1.0000\n",
      "Epoch 94/100\n",
      "21/21 [==============================] - 0s 947us/step - loss: 0.0092 - accuracy: 1.0000\n",
      "Epoch 95/100\n",
      "21/21 [==============================] - 0s 959us/step - loss: 0.0108 - accuracy: 1.0000\n",
      "Epoch 96/100\n",
      "21/21 [==============================] - 0s 947us/step - loss: 0.0108 - accuracy: 1.0000\n",
      "Epoch 97/100\n",
      "21/21 [==============================] - 0s 947us/step - loss: 0.0094 - accuracy: 1.0000\n",
      "Epoch 98/100\n",
      "21/21 [==============================] - 0s 947us/step - loss: 0.0105 - accuracy: 1.0000\n",
      "Epoch 99/100\n",
      "21/21 [==============================] - 0s 947us/step - loss: 0.0089 - accuracy: 1.0000\n",
      "Epoch 100/100\n",
      "21/21 [==============================] - 0s 947us/step - loss: 0.0067 - accuracy: 1.0000\n"
     ]
    },
    {
     "data": {
      "text/plain": [
       "<tensorflow.python.keras.callbacks.History at 0x1862b812640>"
      ]
     },
     "execution_count": 80,
     "metadata": {},
     "output_type": "execute_result"
    }
   ],
   "source": [
    "model.fit(x_train,y_train,epochs=100,batch_size=8)"
   ]
  },
  {
   "cell_type": "code",
   "execution_count": 81,
   "id": "vietnamese-universal",
   "metadata": {},
   "outputs": [
    {
     "name": "stdout",
     "output_type": "stream",
     "text": [
      "2/2 [==============================] - 0s 2ms/step - loss: 0.6907 - accuracy: 0.7857\n"
     ]
    },
    {
     "data": {
      "text/plain": [
       "[0.690654993057251, 0.7857142686843872]"
      ]
     },
     "execution_count": 81,
     "metadata": {},
     "output_type": "execute_result"
    }
   ],
   "source": [
    "model.evaluate(x_test,y_test)"
   ]
  },
  {
   "cell_type": "code",
   "execution_count": 83,
   "id": "practical-milwaukee",
   "metadata": {},
   "outputs": [
    {
     "name": "stdout",
     "output_type": "stream",
     "text": [
      "[3.1686250e-05 7.6245534e-01 9.3462139e-01 6.1692595e-03 1.0000000e+00\n",
      " 9.8371089e-01 5.1526120e-05 2.0638704e-03 9.7045398e-01 5.9898186e-01]\n",
      "[0. 1. 1. 0. 1. 1. 0. 0. 1. 1.]\n"
     ]
    }
   ],
   "source": [
    "y_pred = model.predict(x_test).reshape(-1)\n",
    "print(y_pred[:10])\n",
    "\n",
    "# round the values to nearest integer ie 0 or 1\n",
    "y_pred = np.round(y_pred)\n",
    "print(y_pred[:10])"
   ]
  },
  {
   "cell_type": "code",
   "execution_count": 84,
   "id": "compliant-squad",
   "metadata": {},
   "outputs": [
    {
     "data": {
      "text/html": [
       "<div>\n",
       "<style scoped>\n",
       "    .dataframe tbody tr th:only-of-type {\n",
       "        vertical-align: middle;\n",
       "    }\n",
       "\n",
       "    .dataframe tbody tr th {\n",
       "        vertical-align: top;\n",
       "    }\n",
       "\n",
       "    .dataframe thead th {\n",
       "        text-align: right;\n",
       "    }\n",
       "</style>\n",
       "<table border=\"1\" class=\"dataframe\">\n",
       "  <thead>\n",
       "    <tr style=\"text-align: right;\">\n",
       "      <th></th>\n",
       "      <th>R</th>\n",
       "    </tr>\n",
       "  </thead>\n",
       "  <tbody>\n",
       "    <tr>\n",
       "      <th>133</th>\n",
       "      <td>0</td>\n",
       "    </tr>\n",
       "    <tr>\n",
       "      <th>5</th>\n",
       "      <td>1</td>\n",
       "    </tr>\n",
       "    <tr>\n",
       "      <th>13</th>\n",
       "      <td>1</td>\n",
       "    </tr>\n",
       "    <tr>\n",
       "      <th>46</th>\n",
       "      <td>1</td>\n",
       "    </tr>\n",
       "    <tr>\n",
       "      <th>62</th>\n",
       "      <td>1</td>\n",
       "    </tr>\n",
       "    <tr>\n",
       "      <th>20</th>\n",
       "      <td>1</td>\n",
       "    </tr>\n",
       "    <tr>\n",
       "      <th>136</th>\n",
       "      <td>0</td>\n",
       "    </tr>\n",
       "    <tr>\n",
       "      <th>199</th>\n",
       "      <td>0</td>\n",
       "    </tr>\n",
       "    <tr>\n",
       "      <th>92</th>\n",
       "      <td>1</td>\n",
       "    </tr>\n",
       "    <tr>\n",
       "      <th>153</th>\n",
       "      <td>0</td>\n",
       "    </tr>\n",
       "  </tbody>\n",
       "</table>\n",
       "</div>"
      ],
      "text/plain": [
       "     R\n",
       "133  0\n",
       "5    1\n",
       "13   1\n",
       "46   1\n",
       "62   1\n",
       "20   1\n",
       "136  0\n",
       "199  0\n",
       "92   1\n",
       "153  0"
      ]
     },
     "execution_count": 84,
     "metadata": {},
     "output_type": "execute_result"
    }
   ],
   "source": [
    "y_test[:10]\n"
   ]
  },
  {
   "cell_type": "code",
   "execution_count": 85,
   "id": "qualified-stroke",
   "metadata": {},
   "outputs": [
    {
     "name": "stdout",
     "output_type": "stream",
     "text": [
      "              precision    recall  f1-score   support\n",
      "\n",
      "           0       0.83      0.80      0.82        25\n",
      "           1       0.72      0.76      0.74        17\n",
      "\n",
      "    accuracy                           0.79        42\n",
      "   macro avg       0.78      0.78      0.78        42\n",
      "weighted avg       0.79      0.79      0.79        42\n",
      "\n"
     ]
    }
   ],
   "source": [
    "\n",
    "from sklearn.metrics import confusion_matrix , classification_report\n",
    "\n",
    "print(classification_report(y_test, y_pred))"
   ]
  },
  {
   "cell_type": "code",
   "execution_count": 94,
   "id": "lonely-tanzania",
   "metadata": {},
   "outputs": [
    {
     "name": "stdout",
     "output_type": "stream",
     "text": [
      "Epoch 1/100\n",
      "21/21 [==============================] - 1s 1ms/step - loss: 0.6775 - accuracy: 0.6068\n",
      "Epoch 2/100\n",
      "21/21 [==============================] - 0s 1ms/step - loss: 0.7455 - accuracy: 0.4786\n",
      "Epoch 3/100\n",
      "21/21 [==============================] - 0s 1ms/step - loss: 0.7351 - accuracy: 0.4461\n",
      "Epoch 4/100\n",
      "21/21 [==============================] - 0s 1ms/step - loss: 0.6917 - accuracy: 0.5746\n",
      "Epoch 5/100\n",
      "21/21 [==============================] - 0s 1ms/step - loss: 0.7319 - accuracy: 0.4637\n",
      "Epoch 6/100\n",
      "21/21 [==============================] - 0s 1ms/step - loss: 0.7148 - accuracy: 0.5072\n",
      "Epoch 7/100\n",
      "21/21 [==============================] - 0s 1ms/step - loss: 0.6727 - accuracy: 0.5475\n",
      "Epoch 8/100\n",
      "21/21 [==============================] - 0s 1ms/step - loss: 0.6877 - accuracy: 0.6011\n",
      "Epoch 9/100\n",
      "21/21 [==============================] - 0s 1ms/step - loss: 0.6857 - accuracy: 0.5506\n",
      "Epoch 10/100\n",
      "21/21 [==============================] - 0s 1ms/step - loss: 0.6875 - accuracy: 0.5478\n",
      "Epoch 11/100\n",
      "21/21 [==============================] - 0s 1ms/step - loss: 0.6908 - accuracy: 0.5426\n",
      "Epoch 12/100\n",
      "21/21 [==============================] - 0s 1ms/step - loss: 0.7010 - accuracy: 0.4836\n",
      "Epoch 13/100\n",
      "21/21 [==============================] - 0s 1ms/step - loss: 0.6903 - accuracy: 0.5838\n",
      "Epoch 14/100\n",
      "21/21 [==============================] - 0s 1ms/step - loss: 0.6970 - accuracy: 0.5332\n",
      "Epoch 15/100\n",
      "21/21 [==============================] - 0s 1ms/step - loss: 0.6818 - accuracy: 0.5648\n",
      "Epoch 16/100\n",
      "21/21 [==============================] - 0s 1ms/step - loss: 0.6952 - accuracy: 0.5076\n",
      "Epoch 17/100\n",
      "21/21 [==============================] - 0s 1ms/step - loss: 0.6588 - accuracy: 0.6531\n",
      "Epoch 18/100\n",
      "21/21 [==============================] - 0s 1ms/step - loss: 0.6861 - accuracy: 0.5273\n",
      "Epoch 19/100\n",
      "21/21 [==============================] - 0s 1ms/step - loss: 0.6789 - accuracy: 0.6133\n",
      "Epoch 20/100\n",
      "21/21 [==============================] - 0s 1ms/step - loss: 0.6484 - accuracy: 0.6361\n",
      "Epoch 21/100\n",
      "21/21 [==============================] - 0s 1ms/step - loss: 0.6368 - accuracy: 0.6595\n",
      "Epoch 22/100\n",
      "21/21 [==============================] - 0s 1ms/step - loss: 0.6690 - accuracy: 0.5913\n",
      "Epoch 23/100\n",
      "21/21 [==============================] - 0s 1ms/step - loss: 0.6673 - accuracy: 0.5690\n",
      "Epoch 24/100\n",
      "21/21 [==============================] - 0s 1ms/step - loss: 0.6546 - accuracy: 0.5938\n",
      "Epoch 25/100\n",
      "21/21 [==============================] - 0s 1ms/step - loss: 0.6672 - accuracy: 0.5869\n",
      "Epoch 26/100\n",
      "21/21 [==============================] - 0s 1ms/step - loss: 0.6145 - accuracy: 0.6581\n",
      "Epoch 27/100\n",
      "21/21 [==============================] - 0s 1ms/step - loss: 0.6478 - accuracy: 0.6261\n",
      "Epoch 28/100\n",
      "21/21 [==============================] - 0s 1ms/step - loss: 0.6704 - accuracy: 0.6072\n",
      "Epoch 29/100\n",
      "21/21 [==============================] - 0s 1ms/step - loss: 0.6274 - accuracy: 0.6898\n",
      "Epoch 30/100\n",
      "21/21 [==============================] - 0s 1ms/step - loss: 0.6104 - accuracy: 0.6678\n",
      "Epoch 31/100\n",
      "21/21 [==============================] - 0s 1ms/step - loss: 0.5778 - accuracy: 0.6395\n",
      "Epoch 32/100\n",
      "21/21 [==============================] - 0s 1ms/step - loss: 0.5676 - accuracy: 0.7159\n",
      "Epoch 33/100\n",
      "21/21 [==============================] - 0s 1ms/step - loss: 0.6318 - accuracy: 0.6428\n",
      "Epoch 34/100\n",
      "21/21 [==============================] - 0s 1ms/step - loss: 0.5921 - accuracy: 0.6504\n",
      "Epoch 35/100\n",
      "21/21 [==============================] - 0s 1ms/step - loss: 0.5565 - accuracy: 0.7286\n",
      "Epoch 36/100\n",
      "21/21 [==============================] - 0s 1ms/step - loss: 0.5526 - accuracy: 0.7189\n",
      "Epoch 37/100\n",
      "21/21 [==============================] - 0s 1ms/step - loss: 0.5554 - accuracy: 0.7177\n",
      "Epoch 38/100\n",
      "21/21 [==============================] - 0s 1ms/step - loss: 0.6498 - accuracy: 0.6676\n",
      "Epoch 39/100\n",
      "21/21 [==============================] - 0s 1ms/step - loss: 0.6342 - accuracy: 0.6965\n",
      "Epoch 40/100\n",
      "21/21 [==============================] - 0s 1ms/step - loss: 0.5188 - accuracy: 0.7790\n",
      "Epoch 41/100\n",
      "21/21 [==============================] - 0s 1ms/step - loss: 0.5189 - accuracy: 0.7686\n",
      "Epoch 42/100\n",
      "21/21 [==============================] - 0s 1ms/step - loss: 0.5508 - accuracy: 0.6787\n",
      "Epoch 43/100\n",
      "21/21 [==============================] - 0s 1ms/step - loss: 0.5135 - accuracy: 0.7524\n",
      "Epoch 44/100\n",
      "21/21 [==============================] - 0s 1ms/step - loss: 0.4944 - accuracy: 0.7622\n",
      "Epoch 45/100\n",
      "21/21 [==============================] - 0s 1ms/step - loss: 0.5446 - accuracy: 0.7057\n",
      "Epoch 46/100\n",
      "21/21 [==============================] - 0s 1ms/step - loss: 0.5243 - accuracy: 0.7245\n",
      "Epoch 47/100\n",
      "21/21 [==============================] - 0s 1ms/step - loss: 0.4934 - accuracy: 0.7194\n",
      "Epoch 48/100\n",
      "21/21 [==============================] - 0s 1ms/step - loss: 0.4699 - accuracy: 0.7839\n",
      "Epoch 49/100\n",
      "21/21 [==============================] - 0s 1ms/step - loss: 0.4547 - accuracy: 0.8285\n",
      "Epoch 50/100\n",
      "21/21 [==============================] - 0s 1ms/step - loss: 0.5205 - accuracy: 0.8054\n",
      "Epoch 51/100\n",
      "21/21 [==============================] - 0s 1ms/step - loss: 0.5665 - accuracy: 0.7601\n",
      "Epoch 52/100\n",
      "21/21 [==============================] - 0s 1ms/step - loss: 0.4825 - accuracy: 0.7508\n",
      "Epoch 53/100\n",
      "21/21 [==============================] - 0s 1ms/step - loss: 0.5202 - accuracy: 0.6888\n",
      "Epoch 54/100\n",
      "21/21 [==============================] - 0s 1ms/step - loss: 0.4123 - accuracy: 0.8087\n",
      "Epoch 55/100\n",
      "21/21 [==============================] - 0s 1ms/step - loss: 0.4590 - accuracy: 0.7480\n",
      "Epoch 56/100\n",
      "21/21 [==============================] - 0s 1ms/step - loss: 0.4427 - accuracy: 0.7821\n",
      "Epoch 57/100\n",
      "21/21 [==============================] - 0s 1ms/step - loss: 0.5126 - accuracy: 0.7663\n",
      "Epoch 58/100\n",
      "21/21 [==============================] - 0s 1ms/step - loss: 0.5015 - accuracy: 0.7667\n",
      "Epoch 59/100\n",
      "21/21 [==============================] - 0s 1ms/step - loss: 0.4292 - accuracy: 0.8379\n",
      "Epoch 60/100\n",
      "21/21 [==============================] - 0s 1ms/step - loss: 0.4505 - accuracy: 0.7921\n",
      "Epoch 61/100\n",
      "21/21 [==============================] - 0s 1ms/step - loss: 0.4202 - accuracy: 0.8403\n",
      "Epoch 62/100\n",
      "21/21 [==============================] - 0s 1ms/step - loss: 0.4350 - accuracy: 0.8187\n",
      "Epoch 63/100\n",
      "21/21 [==============================] - 0s 1ms/step - loss: 0.4388 - accuracy: 0.8247\n",
      "Epoch 64/100\n",
      "21/21 [==============================] - 0s 1ms/step - loss: 0.4357 - accuracy: 0.7950\n",
      "Epoch 65/100\n",
      "21/21 [==============================] - 0s 1ms/step - loss: 0.4983 - accuracy: 0.7807\n",
      "Epoch 66/100\n",
      "21/21 [==============================] - 0s 1ms/step - loss: 0.4207 - accuracy: 0.8293\n",
      "Epoch 67/100\n",
      "21/21 [==============================] - 0s 1ms/step - loss: 0.3807 - accuracy: 0.7928\n",
      "Epoch 68/100\n",
      "21/21 [==============================] - 0s 1ms/step - loss: 0.3494 - accuracy: 0.8502\n",
      "Epoch 69/100\n",
      "21/21 [==============================] - 0s 1ms/step - loss: 0.4798 - accuracy: 0.8122\n",
      "Epoch 70/100\n",
      "21/21 [==============================] - 0s 1ms/step - loss: 0.4015 - accuracy: 0.8717\n",
      "Epoch 71/100\n",
      "21/21 [==============================] - 0s 1ms/step - loss: 0.3801 - accuracy: 0.8217\n",
      "Epoch 72/100\n",
      "21/21 [==============================] - 0s 1ms/step - loss: 0.4044 - accuracy: 0.8627\n",
      "Epoch 73/100\n",
      "21/21 [==============================] - 0s 1ms/step - loss: 0.3243 - accuracy: 0.8724\n",
      "Epoch 74/100\n",
      "21/21 [==============================] - 0s 1ms/step - loss: 0.4392 - accuracy: 0.8116\n",
      "Epoch 75/100\n",
      "21/21 [==============================] - 0s 1ms/step - loss: 0.3407 - accuracy: 0.8480\n",
      "Epoch 76/100\n",
      "21/21 [==============================] - 0s 1ms/step - loss: 0.3167 - accuracy: 0.8597\n",
      "Epoch 77/100\n",
      "21/21 [==============================] - 0s 1ms/step - loss: 0.3727 - accuracy: 0.7971\n",
      "Epoch 78/100\n",
      "21/21 [==============================] - 0s 1ms/step - loss: 0.3218 - accuracy: 0.8584\n",
      "Epoch 79/100\n",
      "21/21 [==============================] - 0s 1ms/step - loss: 0.3251 - accuracy: 0.8722\n",
      "Epoch 80/100\n",
      "21/21 [==============================] - 0s 1ms/step - loss: 0.3686 - accuracy: 0.8363\n",
      "Epoch 81/100\n",
      "21/21 [==============================] - 0s 1ms/step - loss: 0.3363 - accuracy: 0.8138\n",
      "Epoch 82/100\n",
      "21/21 [==============================] - 0s 1ms/step - loss: 0.3254 - accuracy: 0.8689\n",
      "Epoch 83/100\n"
     ]
    },
    {
     "name": "stdout",
     "output_type": "stream",
     "text": [
      "21/21 [==============================] - 0s 1ms/step - loss: 0.3470 - accuracy: 0.8728\n",
      "Epoch 84/100\n",
      "21/21 [==============================] - 0s 1ms/step - loss: 0.3175 - accuracy: 0.8283\n",
      "Epoch 85/100\n",
      "21/21 [==============================] - 0s 1ms/step - loss: 0.3492 - accuracy: 0.8460\n",
      "Epoch 86/100\n",
      "21/21 [==============================] - 0s 1ms/step - loss: 0.3422 - accuracy: 0.8443\n",
      "Epoch 87/100\n",
      "21/21 [==============================] - 0s 1ms/step - loss: 0.3565 - accuracy: 0.8031\n",
      "Epoch 88/100\n",
      "21/21 [==============================] - 0s 1ms/step - loss: 0.3509 - accuracy: 0.8506\n",
      "Epoch 89/100\n",
      "21/21 [==============================] - 0s 1ms/step - loss: 0.3327 - accuracy: 0.8738\n",
      "Epoch 90/100\n",
      "21/21 [==============================] - 0s 1ms/step - loss: 0.2984 - accuracy: 0.8803\n",
      "Epoch 91/100\n",
      "21/21 [==============================] - 0s 1ms/step - loss: 0.4179 - accuracy: 0.8106\n",
      "Epoch 92/100\n",
      "21/21 [==============================] - 0s 1ms/step - loss: 0.2832 - accuracy: 0.9192\n",
      "Epoch 93/100\n",
      "21/21 [==============================] - 0s 1ms/step - loss: 0.2661 - accuracy: 0.9077\n",
      "Epoch 94/100\n",
      "21/21 [==============================] - 0s 1ms/step - loss: 0.4375 - accuracy: 0.8361\n",
      "Epoch 95/100\n",
      "21/21 [==============================] - 0s 968us/step - loss: 0.2779 - accuracy: 0.8653\n",
      "Epoch 96/100\n",
      "21/21 [==============================] - 0s 898us/step - loss: 0.3439 - accuracy: 0.8441\n",
      "Epoch 97/100\n",
      "21/21 [==============================] - 0s 988us/step - loss: 0.2773 - accuracy: 0.8711\n",
      "Epoch 98/100\n",
      "21/21 [==============================] - 0s 1ms/step - loss: 0.2876 - accuracy: 0.9008\n",
      "Epoch 99/100\n",
      "21/21 [==============================] - 0s 1ms/step - loss: 0.2995 - accuracy: 0.8676\n",
      "Epoch 100/100\n",
      "21/21 [==============================] - 0s 1ms/step - loss: 0.2255 - accuracy: 0.9394\n"
     ]
    },
    {
     "data": {
      "text/plain": [
       "<tensorflow.python.keras.callbacks.History at 0x1862cef3220>"
      ]
     },
     "execution_count": 94,
     "metadata": {},
     "output_type": "execute_result"
    }
   ],
   "source": [
    "modeld = keras.Sequential([\n",
    "    keras.layers.Dense(60, input_dim=60, activation='relu'),\n",
    "    keras.layers.Dropout(0.5),\n",
    "    keras.layers.Dense(30, activation='relu'),\n",
    "    keras.layers.Dropout(0.5),\n",
    "    keras.layers.Dense(15, activation='relu'),\n",
    "    keras.layers.Dropout(0.5),\n",
    "    keras.layers.Dense(1, activation='sigmoid')\n",
    "])\n",
    "\n",
    "modeld.compile(loss='binary_crossentropy', optimizer='adam', metrics=['accuracy'])\n",
    "\n",
    "modeld.fit(x_train, y_train, epochs=100, batch_size=8)"
   ]
  },
  {
   "cell_type": "code",
   "execution_count": 95,
   "id": "color-invasion",
   "metadata": {},
   "outputs": [
    {
     "name": "stdout",
     "output_type": "stream",
     "text": [
      "WARNING:tensorflow:5 out of the last 9 calls to <function Model.make_test_function.<locals>.test_function at 0x000001862CF1AEE0> triggered tf.function retracing. Tracing is expensive and the excessive number of tracings could be due to (1) creating @tf.function repeatedly in a loop, (2) passing tensors with different shapes, (3) passing Python objects instead of tensors. For (1), please define your @tf.function outside of the loop. For (2), @tf.function has experimental_relax_shapes=True option that relaxes argument shapes that can avoid unnecessary retracing. For (3), please refer to https://www.tensorflow.org/guide/function#controlling_retracing and https://www.tensorflow.org/api_docs/python/tf/function for  more details.\n",
      "2/2 [==============================] - 0s 2ms/step - loss: 0.3352 - accuracy: 0.9286\n"
     ]
    },
    {
     "data": {
      "text/plain": [
       "[0.3351747989654541, 0.9285714030265808]"
      ]
     },
     "execution_count": 95,
     "metadata": {},
     "output_type": "execute_result"
    }
   ],
   "source": [
    "modeld.evaluate(x_test, y_test)\n"
   ]
  },
  {
   "cell_type": "code",
   "execution_count": 96,
   "id": "anticipated-motorcycle",
   "metadata": {},
   "outputs": [
    {
     "name": "stdout",
     "output_type": "stream",
     "text": [
      "[6.55248761e-03 3.36647034e-04 3.74264777e-01 1.24834806e-01\n",
      " 5.26693463e-03 6.95483685e-02 1.74308419e-02 2.27169752e-01\n",
      " 1.72868371e-03 2.20158309e-01]\n",
      "[0. 0. 0. 0. 0. 0. 0. 0. 0. 0.]\n"
     ]
    }
   ],
   "source": [
    "y_pred = modeld.predict(x_test).reshape(-1)\n",
    "print(y_pred[:10])\n",
    "\n",
    "# round the values to nearest integer ie 0 or 1\n",
    "y_pred = np.round(y_pred)\n",
    "print(y_pred[:10])\n"
   ]
  },
  {
   "cell_type": "code",
   "execution_count": 98,
   "id": "sound-combat",
   "metadata": {},
   "outputs": [
    {
     "data": {
      "text/html": [
       "<div>\n",
       "<style scoped>\n",
       "    .dataframe tbody tr th:only-of-type {\n",
       "        vertical-align: middle;\n",
       "    }\n",
       "\n",
       "    .dataframe tbody tr th {\n",
       "        vertical-align: top;\n",
       "    }\n",
       "\n",
       "    .dataframe thead th {\n",
       "        text-align: right;\n",
       "    }\n",
       "</style>\n",
       "<table border=\"1\" class=\"dataframe\">\n",
       "  <thead>\n",
       "    <tr style=\"text-align: right;\">\n",
       "      <th></th>\n",
       "      <th>R</th>\n",
       "    </tr>\n",
       "  </thead>\n",
       "  <tbody>\n",
       "    <tr>\n",
       "      <th>166</th>\n",
       "      <td>0</td>\n",
       "    </tr>\n",
       "    <tr>\n",
       "      <th>182</th>\n",
       "      <td>0</td>\n",
       "    </tr>\n",
       "    <tr>\n",
       "      <th>170</th>\n",
       "      <td>0</td>\n",
       "    </tr>\n",
       "    <tr>\n",
       "      <th>122</th>\n",
       "      <td>0</td>\n",
       "    </tr>\n",
       "    <tr>\n",
       "      <th>19</th>\n",
       "      <td>1</td>\n",
       "    </tr>\n",
       "    <tr>\n",
       "      <th>193</th>\n",
       "      <td>0</td>\n",
       "    </tr>\n",
       "    <tr>\n",
       "      <th>194</th>\n",
       "      <td>0</td>\n",
       "    </tr>\n",
       "    <tr>\n",
       "      <th>113</th>\n",
       "      <td>0</td>\n",
       "    </tr>\n",
       "    <tr>\n",
       "      <th>187</th>\n",
       "      <td>0</td>\n",
       "    </tr>\n",
       "    <tr>\n",
       "      <th>105</th>\n",
       "      <td>0</td>\n",
       "    </tr>\n",
       "  </tbody>\n",
       "</table>\n",
       "</div>"
      ],
      "text/plain": [
       "     R\n",
       "166  0\n",
       "182  0\n",
       "170  0\n",
       "122  0\n",
       "19   1\n",
       "193  0\n",
       "194  0\n",
       "113  0\n",
       "187  0\n",
       "105  0"
      ]
     },
     "execution_count": 98,
     "metadata": {},
     "output_type": "execute_result"
    }
   ],
   "source": [
    "y_test[:10]"
   ]
  },
  {
   "cell_type": "code",
   "execution_count": 97,
   "id": "therapeutic-iceland",
   "metadata": {},
   "outputs": [
    {
     "name": "stdout",
     "output_type": "stream",
     "text": [
      "              precision    recall  f1-score   support\n",
      "\n",
      "           0       0.92      0.96      0.94        23\n",
      "           1       0.94      0.89      0.92        19\n",
      "\n",
      "    accuracy                           0.93        42\n",
      "   macro avg       0.93      0.93      0.93        42\n",
      "weighted avg       0.93      0.93      0.93        42\n",
      "\n"
     ]
    }
   ],
   "source": [
    "from sklearn.metrics import confusion_matrix , classification_report\n",
    "\n",
    "print(classification_report(y_test, y_pred))"
   ]
  },
  {
   "cell_type": "code",
   "execution_count": null,
   "id": "better-penetration",
   "metadata": {},
   "outputs": [],
   "source": []
  }
 ],
 "metadata": {
  "kernelspec": {
   "display_name": "Python 3",
   "language": "python",
   "name": "python3"
  },
  "language_info": {
   "codemirror_mode": {
    "name": "ipython",
    "version": 3
   },
   "file_extension": ".py",
   "mimetype": "text/x-python",
   "name": "python",
   "nbconvert_exporter": "python",
   "pygments_lexer": "ipython3",
   "version": "3.8.3"
  }
 },
 "nbformat": 4,
 "nbformat_minor": 5
}
